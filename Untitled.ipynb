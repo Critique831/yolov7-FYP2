{
 "cells": [
  {
   "cell_type": "code",
   "execution_count": null,
   "id": "2b3c5d76-3085-4968-9b12-c7b86ae49c89",
   "metadata": {},
   "outputs": [],
   "source": [
    "!python train.py --device 0 --batch-size 10 --epochs 24  --img 320 320 --data data/coco.yaml --hyp data/hyp.scratch.custom.yaml --name yolov7-custom --weights weights/yolov7.pt"
   ]
  },
  {
   "cell_type": "code",
   "execution_count": 5,
   "id": "5a796ff5-3bc4-45b5-84d1-2344d22d6e60",
   "metadata": {
    "collapsed": true,
    "jupyter": {
     "outputs_hidden": true
    },
    "tags": []
   },
   "outputs": [
    {
     "name": "stdout",
     "output_type": "stream",
     "text": [
      "Namespace(weights=['runs/train/yolov7-custom11/weights/best.pt'], data='data/coco.yaml', batch_size=10, img_size=320, conf_thres=0.001, iou_thres=0.54, task='val', device='0', single_cls=False, augment=False, verbose=False, save_txt=False, save_hybrid=False, save_conf=False, save_json=True, project='runs/test', name='yolov7', exist_ok=False, no_trace=False, v5_metric=False)\n"
     ]
    },
    {
     "name": "stderr",
     "output_type": "stream",
     "text": [
      "Traceback (most recent call last):\n",
      "  File \"C:\\Users\\Asus\\Desktop\\FYP yolov7\\Maturity\\yolov7FYP2\\test.py\", line 319, in <module>\n",
      "    test(opt.data,\n",
      "  File \"C:\\Users\\Asus\\Desktop\\FYP yolov7\\Maturity\\yolov7FYP2\\test.py\", line 51, in test\n",
      "    device = select_device(opt.device, batch_size=batch_size)\n",
      "  File \"C:\\Users\\Asus\\Desktop\\FYP yolov7\\Maturity\\yolov7FYP2\\utils\\torch_utils.py\", line 71, in select_device\n",
      "    assert torch.cuda.is_available(), f'CUDA unavailable, invalid device {device} requested'  # check availability\n",
      "AssertionError: CUDA unavailable, invalid device 0 requested\n"
     ]
    }
   ],
   "source": [
    "!python test.py --data data/coco.yaml --img 320 --batch 10 --conf 0.001 --iou 0.54 --device 0 --weights runs/train/yolov7-custom11/weights/best.pt --name yolov7"
   ]
  },
  {
   "cell_type": "code",
   "execution_count": 1,
   "id": "76d4b07a-2cbc-484d-ab86-0b06033878e7",
   "metadata": {
    "tags": []
   },
   "outputs": [
    {
     "data": {
      "text/plain": [
       "'2.0.1'"
      ]
     },
     "execution_count": 1,
     "metadata": {},
     "output_type": "execute_result"
    }
   ],
   "source": [
    "import torch\n",
    "torch.__version__"
   ]
  },
  {
   "cell_type": "code",
   "execution_count": 2,
   "id": "1be7e4b8-1dd1-4e4e-b8b3-c6b61168a6f4",
   "metadata": {},
   "outputs": [
    {
     "data": {
      "text/plain": [
       "0"
      ]
     },
     "execution_count": 2,
     "metadata": {},
     "output_type": "execute_result"
    }
   ],
   "source": [
    "torch.cuda.current_device()"
   ]
  },
  {
   "cell_type": "code",
   "execution_count": 3,
   "id": "58473101-cafc-4172-8557-ac8419778dd3",
   "metadata": {
    "tags": []
   },
   "outputs": [
    {
     "data": {
      "text/plain": [
       "'NVIDIA GeForce RTX 3050 Laptop GPU'"
      ]
     },
     "execution_count": 3,
     "metadata": {},
     "output_type": "execute_result"
    }
   ],
   "source": [
    "torch.cuda.get_device_name(0)"
   ]
  },
  {
   "cell_type": "code",
   "execution_count": 5,
   "id": "0553505b-685f-4e5b-96f9-4803e036b382",
   "metadata": {
    "tags": []
   },
   "outputs": [
    {
     "name": "stdout",
     "output_type": "stream",
     "text": [
      "^C\n"
     ]
    }
   ],
   "source": [
    "!python test.py --data data/coco.yaml --img 320 --batch 10 --conf 0.001 --iou 0.54 --device cpu --weights runs/train/yolov7-custom11/weights/best.pt --name yolov7"
   ]
  },
  {
   "cell_type": "code",
   "execution_count": null,
   "id": "91c94dd5-ee46-4484-9296-725d9e07787a",
   "metadata": {},
   "outputs": [],
   "source": []
  },
  {
   "cell_type": "code",
   "execution_count": 9,
   "id": "5edb938c-c3f4-47e3-9839-41aa89de8a39",
   "metadata": {},
   "outputs": [
    {
     "ename": "NameError",
     "evalue": "name 'nvcc' is not defined",
     "output_type": "error",
     "traceback": [
      "\u001b[1;31m---------------------------------------------------------------------------\u001b[0m",
      "\u001b[1;31mNameError\u001b[0m                                 Traceback (most recent call last)",
      "Cell \u001b[1;32mIn[9], line 1\u001b[0m\n\u001b[1;32m----> 1\u001b[0m \u001b[43mnvcc\u001b[49m \u001b[38;5;241m-\u001b[39m\u001b[38;5;241m-\u001b[39mversion\n",
      "\u001b[1;31mNameError\u001b[0m: name 'nvcc' is not defined"
     ]
    }
   ],
   "source": []
  },
  {
   "cell_type": "code",
   "execution_count": null,
   "id": "7f231842-f4ee-420e-8648-7628a089f45c",
   "metadata": {},
   "outputs": [],
   "source": []
  },
  {
   "cell_type": "code",
   "execution_count": null,
   "id": "a38c7277-ab69-4de8-a55d-5c47e00f7dde",
   "metadata": {
    "tags": []
   },
   "outputs": [],
   "source": [
    "pip install torch"
   ]
  },
  {
   "cell_type": "code",
   "execution_count": null,
   "id": "fbc8f377-8002-475c-841f-ddf667d4dd42",
   "metadata": {},
   "outputs": [],
   "source": [
    "\n",
    "\n",
    "\n",
    "\n",
    "\n"
   ]
  }
 ],
 "metadata": {
  "kernelspec": {
   "display_name": "yolo",
   "language": "python",
   "name": "yolo"
  },
  "language_info": {
   "codemirror_mode": {
    "name": "ipython",
    "version": 3
   },
   "file_extension": ".py",
   "mimetype": "text/x-python",
   "name": "python",
   "nbconvert_exporter": "python",
   "pygments_lexer": "ipython3",
   "version": "3.9.17"
  }
 },
 "nbformat": 4,
 "nbformat_minor": 5
}
